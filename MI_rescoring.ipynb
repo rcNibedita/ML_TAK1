{
 "cells": [
  {
   "cell_type": "code",
   "execution_count": 1,
   "id": "fb89bd28",
   "metadata": {},
   "outputs": [],
   "source": [
    "import pandas as pd\n",
    "import numpy as np\n",
    "import os\n",
    "import re\n",
    "import glob\n",
    "from sklearn.model_selection import train_test_split\n",
    "from sklearn.model_selection import StratifiedKFold\n",
    "from sklearn.preprocessing import StandardScaler\n",
    "from sklearn.feature_selection import mutual_info_classif\n",
    "from sklearn.feature_selection import SelectKBest\n",
    "import matplotlib.pyplot as plt\n",
    "import seaborn as sns"
   ]
  },
  {
   "cell_type": "code",
   "execution_count": 2,
   "id": "05b81ad4",
   "metadata": {},
   "outputs": [
    {
     "name": "stdout",
     "output_type": "stream",
     "text": [
      "[]\n",
      "CPU times: user 2min 45s, sys: 2.83 s, total: 2min 48s\n",
      "Wall time: 2min 48s\n"
     ]
    }
   ],
   "source": [
    "%%time\n",
    "# Load data #\n",
    "data=pd.read_csv(\"datafiles/common_input/merged.csv\")\n",
    "\n",
    "#  Print columns of dataset with missing values #\n",
    "list = data.columns[data.isna().any()].tolist()\n",
    "print(list)\n",
    "\n",
    "# Fill NA values with mean of the corresponding column #\n",
    "for i in list:\n",
    "    print(i)\n",
    "    print(data.isna().sum())                      \n",
    "    data[i].fillna(data[i].mean(), inplace=True)  "
   ]
  },
  {
   "cell_type": "code",
   "execution_count": 3,
   "id": "1a449e3c",
   "metadata": {},
   "outputs": [
    {
     "name": "stdout",
     "output_type": "stream",
     "text": [
      "    191-238  162-208  191-233  105-183  128-192  157-236    70-91  191-260  \\\n",
      "0  11.97870  14.5808  8.51649  21.7411  24.3121  17.6273  19.1549  19.7087   \n",
      "1  10.01410  14.2115  9.49887  21.6799  23.8066  16.2516  19.0263  20.1875   \n",
      "2  10.73540  14.5949  9.15612  23.3764  24.4845  15.4941  19.0869  19.8669   \n",
      "3  11.47800  14.2701  9.38102  22.1840  24.8525  16.2799  18.9013  19.2377   \n",
      "4   9.11293  14.4493  8.82939  22.0445  24.2904  16.2966  19.9366  19.8839   \n",
      "\n",
      "   131-206   254-287  ...   50-191   96-191  186-202   38-206  189-258  \\\n",
      "0  26.9916  11.31770  ...  19.5976  33.5628  16.5983  37.0451  29.1550   \n",
      "1  27.8652  11.47280  ...  19.8424  32.8300  16.6825  37.4270  29.9501   \n",
      "2  26.6545  10.60260  ...  18.7315  31.6923  16.5440  33.6245  29.3638   \n",
      "3  27.1760  10.81430  ...  18.3538  31.8702  16.1160  35.6819  29.1837   \n",
      "4  27.0934   9.95397  ...  20.2261  33.6891  18.2857  36.8089  29.1130   \n",
      "\n",
      "   186-216  189-198  147-184   30-191   41-206  \n",
      "0  16.8953  16.3082  26.4461  37.8259  32.5972  \n",
      "1  16.7976  16.1856  26.3179  36.2479  33.9006  \n",
      "2  18.2823  16.7561  28.2063  35.4064  31.5118  \n",
      "3  16.9200  15.8057  27.3072  35.0128  32.8736  \n",
      "4  16.5103  16.1196  26.2101  38.2536  32.8658  \n",
      "\n",
      "[5 rows x 203 columns]\n",
      "0    0\n",
      "1    0\n",
      "2    0\n",
      "3    0\n",
      "4    0\n",
      "Name: labels, dtype: int64\n"
     ]
    }
   ],
   "source": [
    "# Extract all the top features prioritized by the three MLP architectures (MLP1H, MLP2H, MLP3H) in all rounds of their training #\n",
    "cols=np.loadtxt(\"datafiles/Workflow2/output/MLPallnonred-kd-featurelist.csv\", dtype=str, delimiter=\",\")\n",
    "\n",
    "# Set feature and target columns #\n",
    "features = data.filter(cols)\n",
    "target = data['labels']\n",
    "print(features.head(n=5))\n",
    "print(target.head(n=5))\n",
    "\n",
    "# Train test split #\n",
    "misel = SelectKBest(mutual_info_classif, k=\"all\")"
   ]
  },
  {
   "cell_type": "code",
   "execution_count": 4,
   "id": "e180b041",
   "metadata": {},
   "outputs": [],
   "source": [
    "def miscore(X,y,seed):\n",
    "    misel.fit(X, y)\n",
    "    scores = misel.scores_\n",
    "    mi_scores=pd.Series(scores, name=\"MI Scores\", index=X.columns)\n",
    "    mi_scores=mi_scores.sort_values(ascending=False)\n",
    "    mi_scores.to_csv(\"miscores-MLPderivedfeatures-seed\"+str(seed)+\".csv\",sep=\",\")\n",
    "    return mi_scores"
   ]
  },
  {
   "cell_type": "code",
   "execution_count": 5,
   "id": "2f5fb9f7",
   "metadata": {},
   "outputs": [],
   "source": [
    "def plot_mi_scores(seed, scores):\n",
    "    scores = scores[:30].sort_values(ascending=False)\n",
    "    width = np.arange(len(scores))\n",
    "    ticks = scores[:30].index\n",
    "    plt.bar(width, scores, color=\"mediumturquoise\")\n",
    "    plt.xticks(width, ticks, rotation='vertical')\n",
    "    plt.title(\"Mutual Information Scores\")\n",
    "    plt.savefig(\"MI-MLPderivedfeatures-seed\"+str(seed)+\".png\", dpi=300)"
   ]
  },
  {
   "cell_type": "code",
   "execution_count": 6,
   "id": "28044bef",
   "metadata": {
    "scrolled": true
   },
   "outputs": [
    {
     "name": "stderr",
     "output_type": "stream",
     "text": [
      "/home/nibedita/anaconda3/lib/python3.9/site-packages/sklearn/utils/validation.py:1688: FutureWarning: Feature names only support names that are all strings. Got feature names with dtypes: ['str_']. An error will be raised in 1.2.\n",
      "  warnings.warn(\n"
     ]
    },
    {
     "data": {
      "image/png": "[encoded data removed]",
      "text/plain": [
       "<Figure size 1000x700 with 1 Axes>"
      ]
     },
     "metadata": {
      "needs_background": "light"
     },
     "output_type": "display_data"
    }
   ],
   "source": [
    "# Do one round of MI classification and rescore the MLP prioritized features #\n",
    "mi_scores=miscore(features,target,12) # random_state arbitrarily assigned 12 in the project\n",
    "plt.figure(dpi=100, figsize=(10, 7))\n",
    "plot_mi_scores(12, mi_scores)"
   ]
  },
  {
   "cell_type": "code",
   "execution_count": null,
   "id": "df21dab7",
   "metadata": {},
   "outputs": [],
   "source": []
  }
 ],
 "metadata": {
  "kernelspec": {
   "display_name": "Python 3 (ipykernel)",
   "language": "python",
   "name": "python3"
  },
  "language_info": {
   "codemirror_mode": {
    "name": "ipython",
    "version": 3
   },
   "file_extension": ".py",
   "mimetype": "text/x-python",
   "name": "python",
   "nbconvert_exporter": "python",
   "pygments_lexer": "ipython3",
   "version": "3.9.12"
  }
 },
 "nbformat": 4,
 "nbformat_minor": 5
}
