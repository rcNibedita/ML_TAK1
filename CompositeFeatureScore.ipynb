{
 "cells": [
  {
   "cell_type": "code",
   "execution_count": null,
   "id": "766a6887",
   "metadata": {},
   "outputs": [],
   "source": [
    "import pandas as pd\n",
    "import numpy as np\n",
    "import glob\n",
    "import scikitplot as skplt\n",
    "import matplotlib.pyplot as plt\n",
    "import seaborn as sns"
   ]
  },
  {
   "cell_type": "code",
   "execution_count": null,
   "id": "921221b4",
   "metadata": {},
   "outputs": [],
   "source": [
    "## COMPOSITE FEATURE SCORE ##\n",
    "    \n",
    "# STEP1 --> Create a dictionary of score datasets (from N rounds of classification) #\n",
    "\n",
    "list= sorted(glob.glob(\"featurescoreset*.csv\"))\n",
    "print(list)\n",
    "data={}\n",
    "for idx, file in enumerate(list):\n",
    "    data[\"data{0}\".format(idx)] = pd.read_csv(file)\n",
    "    data[\"data{0}\".format(idx)].columns = ['pair', 'importance', 'cumulative']\n",
    "print(data['data1'])\n",
    "\n",
    "### STEP2 --> COMPUTE COMPOSITE SCORE ####\n",
    "\n",
    "# List the features appearing important from all score datasets #\n",
    "# Create a new dataset merging these features and their scores # \n",
    "pairs = []\n",
    "df1 = pd.DataFrame()\n",
    "for n, (name, df) in enumerate(data.items()):\n",
    "    print(len(df))\n",
    "    for i in range(len(df)):\n",
    "        feature = (df['pair'][i])\n",
    "        value = df['importance'][i]\n",
    "        df1.assign(pair=feature)\n",
    "        pairimp = pd.DataFrame({'Pair':feature, 'Importance':value}, index=[0])\n",
    "        df1 = pd.concat([df1, pairimp], ignore_index=True)\n",
    "print(df1)\n",
    "\n",
    "# Get the count of each feature across multiple rounds of classification (from the new merged dataset) # \n",
    "count = {}\n",
    "for i in df1.Pair.ravel():\n",
    "    if not i in count:\n",
    "        count[i] = 1\n",
    "    else:\n",
    "        count[i] +=1\n",
    "#print(count)\n",
    "    \n",
    "# Generate a composite feature importance plot #\n",
    "# Add the scores of a feature that appears important multiple times during classification #\n",
    "\n",
    "df2 = df1.groupby(by=[\"Pair\"]).sum().sort_values(ascending=False, by='Importance').reset_index()\n",
    "df3 = df2.iloc[:30] \n",
    "print(df3)\n",
    "#df3.to_csv(\"compositefeatureimportance.csv\", sep=\",\")\n",
    "\n",
    "sns.set(font_scale = 2)\n",
    "sns.set_style('whitegrid')\n",
    "fig=plt.figure(figsize=(12, 10))\n",
    "sns.barplot(x=df3['Pair'], y=df3['Importance'], color=\"mediumvioletred\")\n",
    "plt.xticks(rotation='vertical')\n",
    "plt.tight_layout()\n",
    "plt.savefig(\"compositefeatureimportance.png\", dpi=300)\n",
    "plt.show()"
   ]
  }
 ],
 "metadata": {
  "kernelspec": {
   "display_name": "Python 3 (ipykernel)",
   "language": "python",
   "name": "python3"
  },
  "language_info": {
   "codemirror_mode": {
    "name": "ipython",
    "version": 3
   },
   "file_extension": ".py",
   "mimetype": "text/x-python",
   "name": "python",
   "nbconvert_exporter": "python",
   "pygments_lexer": "ipython3",
   "version": "3.9.7"
  }
 },
 "nbformat": 4,
 "nbformat_minor": 5
}
